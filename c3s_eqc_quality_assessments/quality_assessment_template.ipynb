{
 "cells": [
  {
   "cell_type": "markdown",
   "id": "5bda21ce-fe22-486d-bdb0-d7450216d405",
   "metadata": {
    "papermill": {
     "duration": 0.008751,
     "end_time": "2024-03-08T17:23:56.435664",
     "exception": false,
     "start_time": "2024-03-08T17:23:56.426913",
     "status": "completed"
    },
    "tags": []
   },
   "source": [
    "# Use case: Use case here in full (or should we start with a fully descriptive title)\n",
    "\n",
    "## Quality assessment question(s)\n",
    "* **In most cases there should be one question listed here in bold**\n",
    "* **In some cases a second question may be included**\n"
   ]
  },
  {
   "cell_type": "markdown",
   "id": "2590e7f4-d6b3-4eed-a91f-c94a78df2db5",
   "metadata": {
    "tags": []
   },
   "source": [
    "‘Context’ (no title/heading)- a very short introduction before the assessment statement describing approach taken to answer the user questions. One or two key references could be useful, especailly if the assessment summarises literature [[1]](https://www.nature.com/articles/s41598-018-20628-2).\n",
    "\n",
    "## Quality assessment statement\n",
    "\n",
    "(key results and guidance including an answer to the user question) - to be visually highlighted and with the title ‘Quality assessment statement’.\n",
    "* Statement 1\n",
    "* Statement 2\n",
    "* Statement 3\n",
    "* etc\n",
    "\n",
    "A ‘key figure’ if appropriate (think of this as a ‘graphical abstract’, that may also be used as a thumbnail in the CDS or Jupyterbook)[image.png](attachment:9c11a446-d7b6-4322-9290-13c413e82f5b.png)"
   ]
  },
  {
   "cell_type": "markdown",
   "id": "cf29a129-a93d-4867-a857-b19c5ac17758",
   "metadata": {},
   "source": [
    "## Methodology\n",
    "\n",
    "A ‘free text’ introduction to the data analysis steps or a description of the literature synthesis, with a justification of the approach taken, and limitations mentioned.\n",
    "\n",
    "Followed by a numbered list of the methodology and results, with the same headings as the sections under ‘Analysis and Results’. These should be links to the sections below using the format `[Text to be displayed](#words-in-heading)`.\n",
    "* These headings can be specific to the quality assessment, and help guide the user through the ‘story’ of the assessment\n",
    "* Sub-bullets could be used to outline what will be done/shown/discussed in each section\n",
    "\n",
    "E.g. 'The analysis and results are organised in the following steps, which are detailed in the sections below:' \n",
    "\n",
    "**1. [Section A](#section-a) E.g. 'Choose the data to use and setup code':**\n",
    " * Sub-steps or key points listed in bullet below. No strict requirement to match and link to sub-headings.\n",
    "\n",
    "**2. [Section B](#section-b) E.g. 'Dataset 1 retrieval and area average':**\n",
    " * Sub-steps or key points listed in bullet below. No strict requirement to match and link to sub-headings.\n",
    "\n",
    "**3. [Section C](#section-c) E.g. 'Dataset 2 retrieval and area average':**\n",
    " * Sub-steps or key points listed in bullet below. No strict requirement to match and link to sub-headings.\n",
    "\n",
    "**4. [Section D](#section-d) E.g. 'Compute the bias':**\n",
    " * Sub-steps or key points listed in bullet below. No strict requirement to match and link to sub-headings.\n",
    " \n",
    "**5. [Section E](#section-e) E.g. 'Plot and describe results':** \n",
    " * Sub-steps or key points listed in bullet below. No strict requirement to match and link to sub-headings.\n",
    "\n",
    "Any further notes on the method could go here."
   ]
  },
  {
   "cell_type": "markdown",
   "id": "93a36ba7-11f3-43f2-9cea-2eff221f68ec",
   "metadata": {},
   "source": [
    "## Analysis and results"
   ]
  },
  {
   "cell_type": "markdown",
   "id": "368e01c6",
   "metadata": {
    "papermill": {
     "duration": 0.007051,
     "end_time": "2024-03-08T17:23:56.492658",
     "exception": false,
     "start_time": "2024-03-08T17:23:56.485607",
     "status": "completed"
    },
    "tags": []
   },
   "source": [
    "### Section A\n",
    "\n",
    "#### Subsections\n",
    "Describe what is done in this step/section and what the `code` in the cell does (if code is included). Th ecode should be collapsed by default using the cell tag `'hide-input'`. Cell output should be cleaned up as needed, this can also be done with the `'hide-output'` cell tag."
   ]
  },
  {
   "cell_type": "code",
   "execution_count": 9,
   "id": "298e4928-0752-438c-b44c-8ce14d79359a",
   "metadata": {
    "tags": [
     "hide-input"
    ]
   },
   "outputs": [],
   "source": [
    "# collapsable code cells - use cell tag 'hide-input' for all cells, added via the cell settings or cogs icon on the right\n",
    "\n",
    "# code is included for transparency but also learning purposes and gives users the chance to adapt the code used for the assesment as they wish"
   ]
  },
  {
   "cell_type": "markdown",
   "id": "ff1655d7-9a57-49c0-a515-f7c78b60eeea",
   "metadata": {
    "papermill": {
     "duration": 0.007051,
     "end_time": "2024-03-08T17:23:56.492658",
     "exception": false,
     "start_time": "2024-03-08T17:23:56.485607",
     "status": "completed"
    },
    "tags": []
   },
   "source": [
    "### Section B\n",
    "\n",
    "#### Subsections\n",
    "Describe what is done in this step/section and what the `code` in the cell does (if code is included)."
   ]
  },
  {
   "cell_type": "code",
   "execution_count": 6,
   "id": "22b7b433-8665-4b6e-ba84-aff6b757075c",
   "metadata": {
    "tags": [
     "hide-input"
    ]
   },
   "outputs": [],
   "source": [
    "# collapsable code cells\n",
    "\n",
    "# code is included for transparency but also learning purposes and gives users the chance to adapt the code used for the assesment as they wish"
   ]
  },
  {
   "cell_type": "markdown",
   "id": "8406d54c-6a27-4326-821a-21653a04f39c",
   "metadata": {
    "papermill": {
     "duration": 0.007051,
     "end_time": "2024-03-08T17:23:56.492658",
     "exception": false,
     "start_time": "2024-03-08T17:23:56.485607",
     "status": "completed"
    },
    "tags": []
   },
   "source": [
    "### Section C\n",
    "\n",
    "#### Subsections\n",
    "Describe what is done in this step/section and what the `code` in the cell does (if code is included)."
   ]
  },
  {
   "cell_type": "code",
   "execution_count": 7,
   "id": "bc8cf060-0803-497f-bcf9-2148695af6bd",
   "metadata": {
    "tags": [
     "hide-input"
    ]
   },
   "outputs": [],
   "source": [
    "# collapsable code cells\n",
    "\n",
    "# code is included for transparency but also learning purposes and gives users the chance to adapt the code used for the assesment as they wish"
   ]
  },
  {
   "cell_type": "markdown",
   "id": "ae6aa023-3fdf-4749-bb46-483ef641b0a1",
   "metadata": {
    "papermill": {
     "duration": 0.007051,
     "end_time": "2024-03-08T17:23:56.492658",
     "exception": false,
     "start_time": "2024-03-08T17:23:56.485607",
     "status": "completed"
    },
    "tags": []
   },
   "source": [
    "### Section D\n",
    "\n",
    "#### Subsections\n",
    "Describe what is done in this step/section and what the `code` in the cell does(if code is included)."
   ]
  },
  {
   "cell_type": "code",
   "execution_count": 8,
   "id": "48246700",
   "metadata": {
    "papermill": {
     "duration": 3.749769,
     "end_time": "2024-03-08T17:24:00.248720",
     "exception": false,
     "start_time": "2024-03-08T17:23:56.498951",
     "status": "completed"
    },
    "tags": [
     "hide-input"
    ]
   },
   "outputs": [],
   "source": [
    "# collapsable code cell\n",
    "\n",
    "# code is included for transparency but also learning purposes and gives users the chance to adapt the code used for the assesment as they wish"
   ]
  },
  {
   "cell_type": "markdown",
   "id": "b0e8053e-c581-4178-924f-2f219717d53f",
   "metadata": {
    "papermill": {
     "duration": 0.245188,
     "end_time": "2024-03-08T17:39:21.277354",
     "exception": false,
     "start_time": "2024-03-08T17:39:21.032166",
     "status": "completed"
    },
    "tags": []
   },
   "source": [
    "### Section E \n",
    "\n",
    "#### Subsections\n",
    "Describe what is done in this step/section and what the `code` in the cell does (if code is included). If this is the results section, expect the final plots to be created here with a description of how to interpret them, and what information can be extracted for the specific case shown. "
   ]
  },
  {
   "cell_type": "markdown",
   "id": "cc9c7839-229e-4b13-8b8a-418b93d5ebb8",
   "metadata": {
    "papermill": {
     "duration": 0.271597,
     "end_time": "2024-03-08T17:40:01.664067",
     "exception": false,
     "start_time": "2024-03-08T17:40:01.392470",
     "status": "completed"
    },
    "tags": []
   },
   "source": [
    "## If you want to know more\n",
    "\n",
    "### Key resources\n",
    "\n",
    "List some key resources related to this assessment. E.g. CDS entries, applications, dataset documentation, external pages.\n",
    "\n",
    "### References\n",
    "\n",
    "List the references used in the Notebook here.\n",
    "\n",
    "[[1]](https://www.nature.com/articles/s41598-018-20628-2) Rodriguez, D., De Voil, P., Hudson, D., Brown, J. N., Hayman, P., Marrou, H., & Meinke, H. (2018). Predicting optimum crop designs using crop models and seasonal climate forecasts. Scientific reports, 8(1), 2231."
   ]
  }
 ],
 "metadata": {
  "kernelspec": {
   "display_name": "Python 3.10.10-01",
   "language": "python",
   "name": "python3"
  },
  "language_info": {
   "codemirror_mode": {
    "name": "ipython",
    "version": 3
   },
   "file_extension": ".py",
   "mimetype": "text/x-python",
   "name": "python",
   "nbconvert_exporter": "python",
   "pygments_lexer": "ipython3",
   "version": "3.12.2"
  },
  "papermill": {
   "default_parameters": {},
   "duration": 968.520731,
   "end_time": "2024-03-08T17:40:03.783430",
   "environment_variables": {},
   "exception": null,
   "input_path": "D520.3.2.3b.SEASONAL_multimodel-bias_v5.ipynb",
   "output_path": "output.ipynb",
   "parameters": {},
   "start_time": "2024-03-08T17:23:55.262699",
   "version": "2.4.0"
  }
 },
 "nbformat": 4,
 "nbformat_minor": 5
}
